{
 "cells": [
  {
   "cell_type": "code",
   "execution_count": 1,
   "metadata": {},
   "outputs": [],
   "source": [
    "from Pipelines.process import *\n",
    "import matplotlib.pyplot as plt\n",
    "import seaborn as sns\n",
    "from pygam import LinearGAM, GAM, s, f, te, l\n",
    "from sklearn.metrics import mean_squared_error\n",
    "from math import sqrt\n",
    "from sklearn.model_selection import train_test_split\n",
    "from sklearn.linear_model import LinearRegression\n",
    "from sklearn.ensemble import RandomForestRegressor\n",
    "import xgboost as xgb\n",
    "import re\n",
    "from sklearn.model_selection import GridSearchCV\n",
    "import h2o\n",
    "from h2o.estimators import H2OGradientBoostingEstimator\n",
    "from h2o.estimators.random_forest import H2ORandomForestEstimator\n",
    "from h2o.grid.grid_search import H2OGridSearch\n",
    "import math\n",
    "import numpy as np"
   ]
  },
  {
   "cell_type": "code",
   "execution_count": 2,
   "metadata": {
    "scrolled": false
   },
   "outputs": [
    {
     "name": "stdout",
     "output_type": "stream",
     "text": [
      "Checking whether there is an H2O instance running at http://localhost:54321 . connected.\n"
     ]
    },
    {
     "data": {
      "text/html": [
       "<div style=\"overflow:auto\"><table style=\"width:50%\"><tr><td>H2O_cluster_uptime:</td>\n",
       "<td>10 hours 15 mins</td></tr>\n",
       "<tr><td>H2O_cluster_timezone:</td>\n",
       "<td>Etc/UTC</td></tr>\n",
       "<tr><td>H2O_data_parsing_timezone:</td>\n",
       "<td>UTC</td></tr>\n",
       "<tr><td>H2O_cluster_version:</td>\n",
       "<td>3.30.0.3</td></tr>\n",
       "<tr><td>H2O_cluster_version_age:</td>\n",
       "<td>1 month and 1 day </td></tr>\n",
       "<tr><td>H2O_cluster_name:</td>\n",
       "<td>H2O_from_python_datageek_6v2g3u</td></tr>\n",
       "<tr><td>H2O_cluster_total_nodes:</td>\n",
       "<td>1</td></tr>\n",
       "<tr><td>H2O_cluster_free_memory:</td>\n",
       "<td>5.653 Gb</td></tr>\n",
       "<tr><td>H2O_cluster_total_cores:</td>\n",
       "<td>2</td></tr>\n",
       "<tr><td>H2O_cluster_allowed_cores:</td>\n",
       "<td>2</td></tr>\n",
       "<tr><td>H2O_cluster_status:</td>\n",
       "<td>locked, healthy</td></tr>\n",
       "<tr><td>H2O_connection_url:</td>\n",
       "<td>http://localhost:54321</td></tr>\n",
       "<tr><td>H2O_connection_proxy:</td>\n",
       "<td>{\"http\": null, \"https\": null}</td></tr>\n",
       "<tr><td>H2O_internal_security:</td>\n",
       "<td>False</td></tr>\n",
       "<tr><td>H2O_API_Extensions:</td>\n",
       "<td>Amazon S3, XGBoost, Algos, AutoML, Core V3, TargetEncoder, Core V4</td></tr>\n",
       "<tr><td>Python_version:</td>\n",
       "<td>3.6.9 final</td></tr></table></div>"
      ],
      "text/plain": [
       "--------------------------  ------------------------------------------------------------------\n",
       "H2O_cluster_uptime:         10 hours 15 mins\n",
       "H2O_cluster_timezone:       Etc/UTC\n",
       "H2O_data_parsing_timezone:  UTC\n",
       "H2O_cluster_version:        3.30.0.3\n",
       "H2O_cluster_version_age:    1 month and 1 day\n",
       "H2O_cluster_name:           H2O_from_python_datageek_6v2g3u\n",
       "H2O_cluster_total_nodes:    1\n",
       "H2O_cluster_free_memory:    5.653 Gb\n",
       "H2O_cluster_total_cores:    2\n",
       "H2O_cluster_allowed_cores:  2\n",
       "H2O_cluster_status:         locked, healthy\n",
       "H2O_connection_url:         http://localhost:54321\n",
       "H2O_connection_proxy:       {\"http\": null, \"https\": null}\n",
       "H2O_internal_security:      False\n",
       "H2O_API_Extensions:         Amazon S3, XGBoost, Algos, AutoML, Core V3, TargetEncoder, Core V4\n",
       "Python_version:             3.6.9 final\n",
       "--------------------------  ------------------------------------------------------------------"
      ]
     },
     "metadata": {},
     "output_type": "display_data"
    },
    {
     "name": "stderr",
     "output_type": "stream",
     "text": [
      "100% (500 of 500) |######################| Elapsed Time: 0:03:39 Time:  0:03:39\n",
      "100% (500 of 500) |######################| Elapsed Time: 0:03:49 Time:  0:03:49\n",
      "100% (500 of 500) |######################| Elapsed Time: 0:03:43 Time:  0:03:43\n",
      "100% (500 of 500) |######################| Elapsed Time: 0:02:10 Time:  0:02:10\n"
     ]
    },
    {
     "name": "stdout",
     "output_type": "stream",
     "text": [
      "Parse progress: |█████████████████████████████████████████████████████████| 100%\n",
      "Parse progress: |█████████████████████████████████████████████████████████| 100%\n",
      "Parse progress: |█████████████████████████████████████████████████████████| 100%\n",
      "gbm Grid Build progress: |████████████████████████████████████████████████| 100%\n",
      "gbm prediction progress: |████████████████████████████████████████████████| 100%\n",
      "gbm prediction progress: |████████████████████████████████████████████████| 100%\n",
      "Parse progress: |█████████████████████████████████████████████████████████| 100%\n",
      "Parse progress: |█████████████████████████████████████████████████████████| 100%\n",
      "Parse progress: |█████████████████████████████████████████████████████████| 100%\n",
      "gbm Grid Build progress: |████████████████████████████████████████████████| 100%\n",
      "gbm prediction progress: |████████████████████████████████████████████████| 100%\n"
     ]
    },
    {
     "name": "stderr",
     "output_type": "stream",
     "text": [
      "/home/datageek/.local/lib/python3.6/site-packages/h2o/job.py:70: UserWarning: Test/Validation dataset column 'galaxy' has levels not trained on: [KKR 03 (KK98 230)]\n",
      "  warnings.warn(w)\n"
     ]
    },
    {
     "name": "stdout",
     "output_type": "stream",
     "text": [
      "gbm prediction progress: |████████████████████████████████████████████████| 100%\n",
      "Parse progress: |█████████████████████████████████████████████████████████| 100%\n",
      "Parse progress: |█████████████████████████████████████████████████████████| 100%\n",
      "Parse progress: |█████████████████████████████████████████████████████████| 100%\n",
      "gbm Grid Build progress: |████████████████████████████████████████████████| 100%\n",
      "gbm prediction progress: |████████████████████████████████████████████████| 100%\n",
      "gbm prediction progress: |████████████████████████████████████████████████| 100%\n",
      "Parse progress: |█████████████████████████████████████████████████████████| 100%\n",
      "Parse progress: |█████████████████████████████████████████████████████████| 100%\n",
      "Parse progress: |█████████████████████████████████████████████████████████| 100%\n",
      "gbm Grid Build progress: |████████████████████████████████████████████████| 100%\n",
      "gbm prediction progress: |████████████████████████████████████████████████| 100%\n",
      "gbm prediction progress: |████████████████████████████████████████████████| 100%\n",
      "Parse progress: |█████████████████████████████████████████████████████████| 100%\n",
      "Parse progress: |█████████████████████████████████████████████████████████| 100%\n",
      "Parse progress: |█████████████████████████████████████████████████████████| 100%\n",
      "gbm Grid Build progress: |████████████████████████████████████████████████| 100%\n",
      "gbm prediction progress: |████████████████████████████████████████████████| 100%\n"
     ]
    },
    {
     "name": "stderr",
     "output_type": "stream",
     "text": [
      "/home/datageek/.local/lib/python3.6/site-packages/h2o/job.py:70: UserWarning: Test/Validation dataset column 'galaxy' has levels not trained on: [HIPASS J1247-77, Leo V Dwarf]\n",
      "  warnings.warn(w)\n"
     ]
    },
    {
     "name": "stdout",
     "output_type": "stream",
     "text": [
      "gbm prediction progress: |████████████████████████████████████████████████| 100%\n"
     ]
    },
    {
     "name": "stderr",
     "output_type": "stream",
     "text": [
      "/home/datageek/.local/lib/python3.6/site-packages/h2o/job.py:70: UserWarning: Test/Validation dataset column 'galaxy' has levels not trained on: [HIPASS J1247-77, Hercules Dwarf, Leo V Dwarf]\n",
      "  warnings.warn(w)\n"
     ]
    },
    {
     "name": "stdout",
     "output_type": "stream",
     "text": [
      "Parse progress: |█████████████████████████████████████████████████████████| 100%\n",
      "Parse progress: |█████████████████████████████████████████████████████████| 100%\n",
      "Parse progress: |█████████████████████████████████████████████████████████| 100%\n",
      "gbm Grid Build progress: |████████████████████████████████████████████████| 100%\n",
      "gbm prediction progress: |████████████████████████████████████████████████| 100%\n"
     ]
    },
    {
     "name": "stderr",
     "output_type": "stream",
     "text": [
      "/home/datageek/.local/lib/python3.6/site-packages/h2o/job.py:70: UserWarning: Test/Validation dataset column 'galaxy' has levels not trained on: [KKR 03 (KK98 230), UGCA 438 (ESO 407-018)]\n",
      "  warnings.warn(w)\n"
     ]
    },
    {
     "name": "stdout",
     "output_type": "stream",
     "text": [
      "gbm prediction progress: |████████████████████████████████████████████████| 100%\n"
     ]
    },
    {
     "name": "stderr",
     "output_type": "stream",
     "text": [
      "/home/datageek/.local/lib/python3.6/site-packages/h2o/job.py:70: UserWarning: Test/Validation dataset column 'galaxy' has levels not trained on: [Andromeda XIX[60], Andromeda XVIII[60], KKR 03 (KK98 230), UGCA 438 (ESO 407-018)]\n",
      "  warnings.warn(w)\n"
     ]
    },
    {
     "name": "stdout",
     "output_type": "stream",
     "text": [
      "Parse progress: |█████████████████████████████████████████████████████████| 100%\n",
      "Parse progress: |█████████████████████████████████████████████████████████| 100%\n",
      "Parse progress: |█████████████████████████████████████████████████████████| 100%\n",
      "gbm Grid Build progress: |████████████████████████████████████████████████| 100%\n",
      "gbm prediction progress: |████████████████████████████████████████████████| 100%\n",
      "gbm prediction progress: |████████████████████████████████████████████████| 100%\n",
      "Parse progress: |█████████████████████████████████████████████████████████| 100%\n",
      "Parse progress: |█████████████████████████████████████████████████████████| 100%\n",
      "Parse progress: |█████████████████████████████████████████████████████████| 100%\n",
      "gbm Grid Build progress: |████████████████████████████████████████████████| 100%\n",
      "gbm prediction progress: |████████████████████████████████████████████████| 100%\n",
      "gbm prediction progress: |████████████████████████████████████████████████| 100%\n",
      "Parse progress: |█████████████████████████████████████████████████████████| 100%\n",
      "Parse progress: |█████████████████████████████████████████████████████████| 100%\n",
      "Parse progress: |█████████████████████████████████████████████████████████| 100%\n",
      "gbm Grid Build progress: |████████████████████████████████████████████████| 100%\n",
      "gbm prediction progress: |████████████████████████████████████████████████| 100%\n"
     ]
    },
    {
     "name": "stderr",
     "output_type": "stream",
     "text": [
      "/home/datageek/.local/lib/python3.6/site-packages/h2o/job.py:70: UserWarning: Test/Validation dataset column 'galaxy' has levels not trained on: [KKR 03 (KK98 230), KUG 1210+301B (KK98 127)]\n",
      "  warnings.warn(w)\n"
     ]
    },
    {
     "name": "stdout",
     "output_type": "stream",
     "text": [
      "gbm prediction progress: |████████████████████████████████████████████████| 100%\n"
     ]
    },
    {
     "name": "stderr",
     "output_type": "stream",
     "text": [
      "/home/datageek/.local/lib/python3.6/site-packages/h2o/job.py:70: UserWarning: Test/Validation dataset column 'galaxy' has levels not trained on: [Andromeda XVIII[60], KKR 03 (KK98 230), KUG 1210+301B (KK98 127)]\n",
      "  warnings.warn(w)\n"
     ]
    },
    {
     "name": "stdout",
     "output_type": "stream",
     "text": [
      "Parse progress: |█████████████████████████████████████████████████████████| 100%\n",
      "Parse progress: |█████████████████████████████████████████████████████████| 100%\n",
      "Parse progress: |█████████████████████████████████████████████████████████| 100%\n",
      "gbm Grid Build progress: |████████████████████████████████████████████████| 100%\n",
      "gbm prediction progress: |████████████████████████████████████████████████| 100%\n"
     ]
    },
    {
     "name": "stderr",
     "output_type": "stream",
     "text": [
      "/home/datageek/.local/lib/python3.6/site-packages/h2o/job.py:70: UserWarning: Test/Validation dataset column 'galaxy' has levels not trained on: [Andromeda Galaxy (M31), Andromeda XVII, KKR 03 (KK98 230), Leo V Dwarf, Maffei 2, NGC 247, NGC 4214 (UGC 7278), Pegasus III, UGCA 15 (DDO 6), UGCA 276 (DDO 113)]\n",
      "  warnings.warn(w)\n"
     ]
    },
    {
     "name": "stdout",
     "output_type": "stream",
     "text": [
      "gbm prediction progress: |████████████████████████████████████████████████| 100%\n"
     ]
    },
    {
     "name": "stderr",
     "output_type": "stream",
     "text": [
      "/home/datageek/.local/lib/python3.6/site-packages/h2o/job.py:70: UserWarning: Test/Validation dataset column 'galaxy' has levels not trained on: [Andromeda Galaxy (M31), Andromeda XVII, Andromeda XVIII[60], KKR 03 (KK98 230), Leo V Dwarf, Maffei 2, NGC 247, NGC 4214 (UGC 7278), Pegasus III, UGCA 15 (DDO 6), UGCA 276 (DDO 113)]\n",
      "  warnings.warn(w)\n"
     ]
    },
    {
     "name": "stdout",
     "output_type": "stream",
     "text": [
      "Parse progress: |█████████████████████████████████████████████████████████| 100%\n",
      "Parse progress: |█████████████████████████████████████████████████████████| 100%\n",
      "Parse progress: |█████████████████████████████████████████████████████████| 100%\n",
      "gbm Grid Build progress: |████████████████████████████████████████████████| 100%\n",
      "gbm prediction progress: |████████████████████████████████████████████████| 100%\n"
     ]
    },
    {
     "name": "stderr",
     "output_type": "stream",
     "text": [
      "/home/datageek/.local/lib/python3.6/site-packages/h2o/job.py:70: UserWarning: Test/Validation dataset column 'galaxy' has levels not trained on: [Andromeda Galaxy (M31), KKR 03 (KK98 230)]\n",
      "  warnings.warn(w)\n"
     ]
    },
    {
     "name": "stdout",
     "output_type": "stream",
     "text": [
      "gbm prediction progress: |████████████████████████████████████████████████| 100%\n"
     ]
    },
    {
     "name": "stderr",
     "output_type": "stream",
     "text": [
      "/home/datageek/.local/lib/python3.6/site-packages/h2o/job.py:70: UserWarning: Test/Validation dataset column 'galaxy' has levels not trained on: [Andromeda Galaxy (M31), Andromeda XVIII[60], KKR 03 (KK98 230)]\n",
      "  warnings.warn(w)\n"
     ]
    },
    {
     "name": "stdout",
     "output_type": "stream",
     "text": [
      "Parse progress: |█████████████████████████████████████████████████████████| 100%\n",
      "Parse progress: |█████████████████████████████████████████████████████████| 100%\n",
      "Parse progress: |█████████████████████████████████████████████████████████| 100%\n",
      "gbm Grid Build progress: |████████████████████████████████████████████████| 100%\n",
      "gbm prediction progress: |████████████████████████████████████████████████| 100%\n",
      "gbm prediction progress: |████████████████████████████████████████████████| 100%\n",
      "Parse progress: |█████████████████████████████████████████████████████████| 100%\n",
      "Parse progress: |█████████████████████████████████████████████████████████| 100%\n",
      "Parse progress: |█████████████████████████████████████████████████████████| 100%\n",
      "gbm Grid Build progress: |████████████████████████████████████████████████| 100%\n",
      "gbm prediction progress: |████████████████████████████████████████████████| 100%\n"
     ]
    },
    {
     "name": "stderr",
     "output_type": "stream",
     "text": [
      "/home/datageek/.local/lib/python3.6/site-packages/h2o/job.py:70: UserWarning: Test/Validation dataset column 'galaxy' has levels not trained on: [Andromeda Galaxy (M31), ESO 383-087 (ISG 39), ESO 540-030 (KDG 2), HIPASS J1247-77, Holmberg II (DDO 50, UGC 4305), IC 342, KKR 03 (KK98 230), NGC 4214 (UGC 7278), Pegasus III, Sextans A (92205, DDO 75), Tucana II, UGC 8651 (DDO 181), UGCA 15 (DDO 6), UGCA 438 (ESO 407-018), UGCA 86]\n",
      "  warnings.warn(w)\n"
     ]
    },
    {
     "name": "stdout",
     "output_type": "stream",
     "text": [
      "gbm prediction progress: |████████████████████████████████████████████████| 100%\n"
     ]
    },
    {
     "name": "stderr",
     "output_type": "stream",
     "text": [
      "/home/datageek/.local/lib/python3.6/site-packages/h2o/job.py:70: UserWarning: Test/Validation dataset column 'galaxy' has levels not trained on: [Andromeda Galaxy (M31), Andromeda XII, Andromeda XIX[60], Andromeda XVIII[60], ESO 383-087 (ISG 39), ESO 540-030 (KDG 2), HIPASS J1247-77, Hercules Dwarf, Holmberg II (DDO 50, UGC 4305), IC 342, KKR 03 (KK98 230), NGC 4214 (UGC 7278), Pegasus III, Sextans A (92205, DDO 75), Tucana II, UGC 8651 (DDO 181), UGCA 15 (DDO 6), UGCA 438 (ESO 407-018), UGCA 86]\n",
      "  warnings.warn(w)\n"
     ]
    },
    {
     "name": "stdout",
     "output_type": "stream",
     "text": [
      "Parse progress: |█████████████████████████████████████████████████████████| 100%\n",
      "Parse progress: |█████████████████████████████████████████████████████████| 100%\n",
      "Parse progress: |█████████████████████████████████████████████████████████| 100%\n",
      "gbm Grid Build progress: |████████████████████████████████████████████████| 100%\n",
      "gbm prediction progress: |████████████████████████████████████████████████| 100%\n"
     ]
    },
    {
     "name": "stderr",
     "output_type": "stream",
     "text": [
      "/home/datageek/.local/lib/python3.6/site-packages/h2o/job.py:70: UserWarning: Test/Validation dataset column 'galaxy' has levels not trained on: [ESO 383-087 (ISG 39), Eridanus II, IC 342, NGC 4214 (UGC 7278), UGCA 86]\n",
      "  warnings.warn(w)\n"
     ]
    },
    {
     "name": "stdout",
     "output_type": "stream",
     "text": [
      "gbm prediction progress: |████████████████████████████████████████████████| 100%\n"
     ]
    },
    {
     "name": "stderr",
     "output_type": "stream",
     "text": [
      "/home/datageek/.local/lib/python3.6/site-packages/h2o/job.py:70: UserWarning: Test/Validation dataset column 'galaxy' has levels not trained on: [Andromeda XII, Andromeda XVIII[60], ESO 383-087 (ISG 39), Eridanus II, IC 342, NGC 4214 (UGC 7278), UGCA 86]\n",
      "  warnings.warn(w)\n"
     ]
    },
    {
     "name": "stdout",
     "output_type": "stream",
     "text": [
      "Parse progress: |█████████████████████████████████████████████████████████| 100%\n",
      "Parse progress: |█████████████████████████████████████████████████████████| 100%\n",
      "Parse progress: |█████████████████████████████████████████████████████████| 100%\n",
      "gbm Grid Build progress: |████████████████████████████████████████████████| 100%\n",
      "gbm prediction progress: |████████████████████████████████████████████████| 100%\n"
     ]
    },
    {
     "name": "stderr",
     "output_type": "stream",
     "text": [
      "/home/datageek/.local/lib/python3.6/site-packages/h2o/job.py:70: UserWarning: Test/Validation dataset column 'galaxy' has levels not trained on: [Andromeda XVII]\n",
      "  warnings.warn(w)\n"
     ]
    },
    {
     "name": "stdout",
     "output_type": "stream",
     "text": [
      "gbm prediction progress: |████████████████████████████████████████████████| 100%\n"
     ]
    },
    {
     "name": "stderr",
     "output_type": "stream",
     "text": [
      "/home/datageek/.local/lib/python3.6/site-packages/h2o/job.py:70: UserWarning: Test/Validation dataset column 'galaxy' has levels not trained on: [Andromeda XVII, Andromeda XVIII[60]]\n",
      "  warnings.warn(w)\n"
     ]
    },
    {
     "name": "stdout",
     "output_type": "stream",
     "text": [
      "Parse progress: |█████████████████████████████████████████████████████████| 100%\n",
      "Parse progress: |█████████████████████████████████████████████████████████| 100%\n",
      "Parse progress: |█████████████████████████████████████████████████████████| 100%\n",
      "gbm Grid Build progress: |████████████████████████████████████████████████| 100%\n",
      "gbm prediction progress: |████████████████████████████████████████████████| 100%\n",
      "gbm prediction progress: |████████████████████████████████████████████████| 100%\n",
      "Parse progress: |█████████████████████████████████████████████████████████| 100%\n",
      "Parse progress: |█████████████████████████████████████████████████████████| 100%\n",
      "Parse progress: |█████████████████████████████████████████████████████████| 100%\n",
      "gbm Grid Build progress: |████████████████████████████████████████████████| 100%\n",
      "gbm prediction progress: |████████████████████████████████████████████████| 100%\n",
      "gbm prediction progress: |████████████████████████████████████████████████| 100%\n",
      "Parse progress: |█████████████████████████████████████████████████████████| 100%\n",
      "Parse progress: |█████████████████████████████████████████████████████████| 100%\n",
      "Parse progress: |█████████████████████████████████████████████████████████| 100%\n",
      "gbm Grid Build progress: |████████████████████████████████████████████████| 100%\n",
      "gbm prediction progress: |████████████████████████████████████████████████| 100%\n"
     ]
    },
    {
     "name": "stderr",
     "output_type": "stream",
     "text": [
      "/home/datageek/.local/lib/python3.6/site-packages/h2o/job.py:70: UserWarning: Test/Validation dataset column 'galaxy' has levels not trained on: [ESO 383-087 (ISG 39), Eridanus II, IC 342, UGCA 86]\n",
      "  warnings.warn(w)\n"
     ]
    },
    {
     "name": "stdout",
     "output_type": "stream",
     "text": [
      "gbm prediction progress: |████████████████████████████████████████████████| 100%\n",
      "Parse progress: |█████████████████████████████████████████████████████████| 100%\n",
      "Parse progress: |█████████████████████████████████████████████████████████| 100%\n",
      "Parse progress: |█████████████████████████████████████████████████████████| 100%\n",
      "gbm Grid Build progress: |████████████████████████████████████████████████| 100%\n",
      "gbm prediction progress: |████████████████████████████████████████████████| 100%\n"
     ]
    },
    {
     "name": "stderr",
     "output_type": "stream",
     "text": [
      "/home/datageek/.local/lib/python3.6/site-packages/h2o/job.py:70: UserWarning: Test/Validation dataset column 'galaxy' has levels not trained on: [UGCA 438 (ESO 407-018), Ursa Minor Dwarf]\n",
      "  warnings.warn(w)\n"
     ]
    },
    {
     "name": "stdout",
     "output_type": "stream",
     "text": [
      "gbm prediction progress: |████████████████████████████████████████████████| 100%\n",
      "Parse progress: |█████████████████████████████████████████████████████████| 100%\n",
      "Parse progress: |█████████████████████████████████████████████████████████| 100%\n",
      "Parse progress: |█████████████████████████████████████████████████████████| 100%\n",
      "gbm Grid Build progress: |████████████████████████████████████████████████| 100%\n",
      "gbm prediction progress: |████████████████████████████████████████████████| 100%\n"
     ]
    },
    {
     "name": "stderr",
     "output_type": "stream",
     "text": [
      "/home/datageek/.local/lib/python3.6/site-packages/h2o/job.py:70: UserWarning: Test/Validation dataset column 'galaxy' has levels not trained on: [Andromeda Galaxy (M31), Andromeda X, Andromeda XVII, Carina Dwarf (E206-G220), ESO 410-G005, IC 1613 (UGC 668), KKR 03 (KK98 230), KKR 25, Leo V Dwarf, Maffei 2, NGC 247, Pegasus III, Reticulum III, UGC 8651 (DDO 181), UGC 8833, UGCA 15 (DDO 6), UGCA 276 (DDO 113)]\n",
      "  warnings.warn(w)\n"
     ]
    },
    {
     "name": "stdout",
     "output_type": "stream",
     "text": [
      "gbm prediction progress: |████████████████████████████████████████████████| 100%\n"
     ]
    },
    {
     "name": "stderr",
     "output_type": "stream",
     "text": [
      "/home/datageek/.local/lib/python3.6/site-packages/h2o/job.py:70: UserWarning: Test/Validation dataset column 'galaxy' has levels not trained on: [Andromeda Galaxy (M31), Andromeda X, Andromeda XVII, Andromeda XVIII[60], Carina Dwarf (E206-G220), ESO 410-G005, IC 1613 (UGC 668), KKR 03 (KK98 230), KKR 25, Leo V Dwarf, Maffei 2, NGC 247, Pegasus III, Reticulum III, UGC 8651 (DDO 181), UGC 8833, UGCA 15 (DDO 6), UGCA 276 (DDO 113)]\n",
      "  warnings.warn(w)\n"
     ]
    },
    {
     "name": "stdout",
     "output_type": "stream",
     "text": [
      "Parse progress: |█████████████████████████████████████████████████████████| 100%\n",
      "Parse progress: |█████████████████████████████████████████████████████████| 100%\n",
      "Parse progress: |█████████████████████████████████████████████████████████| 100%\n",
      "gbm Grid Build progress: |████████████████████████████████████████████████| 100%\n",
      "gbm prediction progress: |████████████████████████████████████████████████| 100%\n"
     ]
    },
    {
     "name": "stderr",
     "output_type": "stream",
     "text": [
      "/home/datageek/.local/lib/python3.6/site-packages/h2o/job.py:70: UserWarning: Test/Validation dataset column 'galaxy' has levels not trained on: [Andromeda Galaxy (M31), Andromeda XV, Andromeda XXVIII, Antlia 2, Camelopardalis B, Cassiopeia III (Andromeda XXXII), Cetus Dwarf, Draco II, Dwingeloo 1, ESO 383-087 (ISG 39), Eridanus II, FM2000 1, HIPASS J1247-77, Holmberg II (DDO 50, UGC 4305), KK98 35, KKR 03 (KK98 230), Large Magellanic Cloud (LMC), Leo T Dwarf, M32 (NGC 221), Maffei 2, NGC 2403, NGC 247, NGC 3741, NGC 4163 (NGC 4167), NGC 4214 (UGC 7278), NGC 5102, NGC 5237, NGC 55, Pegasus Dwarf Sph (And VI), Phoenix II, Pictor II, Sculptor Dwarf (E351-G30), Tucana II, UGC 8833, UGCA 105, UGCA 15 (DDO 6), UGCA 276 (DDO 113), UGCA 438 (ESO 407-018), UGCA 86, Ursa Minor Dwarf]\n",
      "  warnings.warn(w)\n"
     ]
    },
    {
     "name": "stdout",
     "output_type": "stream",
     "text": [
      "gbm prediction progress: |████████████████████████████████████████████████| 100%\n"
     ]
    },
    {
     "name": "stderr",
     "output_type": "stream",
     "text": [
      "/home/datageek/.local/lib/python3.6/site-packages/h2o/job.py:70: UserWarning: Test/Validation dataset column 'galaxy' has levels not trained on: [Andromeda Galaxy (M31), Andromeda XII, Andromeda XIX[60], Andromeda XV, Andromeda XVIII[60], Andromeda XXII[57], Andromeda XXVIII, Antlia 2, Camelopardalis B, Cassiopeia III (Andromeda XXXII), Cetus Dwarf, Draco II, Dwingeloo 1, ESO 383-087 (ISG 39), Eridanus II, FM2000 1, HIPASS J1247-77, Holmberg II (DDO 50, UGC 4305), KK98 35, KKR 03 (KK98 230), Large Magellanic Cloud (LMC), Leo T Dwarf, M32 (NGC 221), Maffei 2, NGC 2403, NGC 247, NGC 3741, NGC 4163 (NGC 4167), NGC 4214 (UGC 7278), NGC 5102, NGC 5237, NGC 55, Pegasus Dwarf Sph (And VI), Phoenix II, Pictor II, Sculptor Dwarf (E351-G30), Triangulum Galaxy (M33), Tucana II, UGC 8833, UGCA 105, UGCA 15 (DDO 6), UGCA 276 (DDO 113), UGCA 438 (ESO 407-018), UGCA 86, Ursa Minor Dwarf]\n",
      "  warnings.warn(w)\n"
     ]
    },
    {
     "name": "stdout",
     "output_type": "stream",
     "text": [
      "Parse progress: |█████████████████████████████████████████████████████████| 100%\n",
      "Parse progress: |█████████████████████████████████████████████████████████| 100%\n",
      "Parse progress: |█████████████████████████████████████████████████████████| 100%\n",
      "drf Grid Build progress: |████████████████████████████████████████████████| 100%\n",
      "drf prediction progress: |████████████████████████████████████████████████| 100%\n",
      "drf prediction progress: |████████████████████████████████████████████████| 100%\n",
      "Parse progress: |█████████████████████████████████████████████████████████| 100%\n",
      "Parse progress: |█████████████████████████████████████████████████████████| 100%\n",
      "Parse progress: |█████████████████████████████████████████████████████████| 100%\n",
      "drf Grid Build progress: |████████████████████████████████████████████████| 100%\n",
      "drf prediction progress: |████████████████████████████████████████████████| 100%\n",
      "drf prediction progress: |████████████████████████████████████████████████| 100%\n"
     ]
    },
    {
     "name": "stderr",
     "output_type": "stream",
     "text": [
      "/home/datageek/.local/lib/python3.6/site-packages/h2o/job.py:70: UserWarning: Test/Validation dataset column 'galaxy' has levels not trained on: [Hercules Dwarf]\n",
      "  warnings.warn(w)\n"
     ]
    },
    {
     "name": "stdout",
     "output_type": "stream",
     "text": [
      "Parse progress: |█████████████████████████████████████████████████████████| 100%\n",
      "Parse progress: |█████████████████████████████████████████████████████████| 100%\n",
      "Parse progress: |█████████████████████████████████████████████████████████| 100%\n",
      "drf Grid Build progress: |████████████████████████████████████████████████| 100%\n",
      "drf prediction progress: |████████████████████████████████████████████████| 100%\n",
      "drf prediction progress: |████████████████████████████████████████████████| 100%\n"
     ]
    },
    {
     "name": "stderr",
     "output_type": "stream",
     "text": [
      "100% (500 of 500) |######################| Elapsed Time: 0:02:38 Time:  0:02:38\n",
      "100% (500 of 500) |######################| Elapsed Time: 0:02:40 Time:  0:02:40\n",
      "100% (500 of 500) |######################| Elapsed Time: 0:02:42 Time:  0:02:42\n",
      "100% (500 of 500) |######################| Elapsed Time: 0:02:28 Time:  0:02:28\n",
      "100% (500 of 500) |######################| Elapsed Time: 0:02:23 Time:  0:02:23\n"
     ]
    },
    {
     "name": "stdout",
     "output_type": "stream",
     "text": [
      "Parse progress: |█████████████████████████████████████████████████████████| 100%\n",
      "Parse progress: |█████████████████████████████████████████████████████████| 100%\n",
      "Parse progress: |█████████████████████████████████████████████████████████| 100%\n",
      "gbm Grid Build progress: |████████████████████████████████████████████████| 100%\n",
      "gbm prediction progress: |████████████████████████████████████████████████| 100%\n"
     ]
    },
    {
     "name": "stderr",
     "output_type": "stream",
     "text": [
      "/home/datageek/.local/lib/python3.6/site-packages/h2o/job.py:70: UserWarning: Test/Validation dataset column 'galaxy' has levels not trained on: [KKR 03 (KK98 230)]\n",
      "  warnings.warn(w)\n"
     ]
    },
    {
     "name": "stdout",
     "output_type": "stream",
     "text": [
      "gbm prediction progress: |████████████████████████████████████████████████| 100%\n",
      "Parse progress: |█████████████████████████████████████████████████████████| 100%\n",
      "Parse progress: |█████████████████████████████████████████████████████████| 100%\n",
      "Parse progress: |█████████████████████████████████████████████████████████| 100%\n",
      "gbm Grid Build progress: |████████████████████████████████████████████████| 100%\n",
      "gbm prediction progress: |████████████████████████████████████████████████| 100%\n",
      "gbm prediction progress: |████████████████████████████████████████████████| 100%\n",
      "Parse progress: |█████████████████████████████████████████████████████████| 100%\n",
      "Parse progress: |█████████████████████████████████████████████████████████| 100%\n",
      "Parse progress: |█████████████████████████████████████████████████████████| 100%\n",
      "gbm Grid Build progress: |████████████████████████████████████████████████| 100%\n",
      "gbm prediction progress: |████████████████████████████████████████████████| 100%\n"
     ]
    },
    {
     "name": "stderr",
     "output_type": "stream",
     "text": [
      "/home/datageek/.local/lib/python3.6/site-packages/h2o/job.py:70: UserWarning: Test/Validation dataset column 'galaxy' has levels not trained on: [Andromeda Galaxy (M31), KKR 03 (KK98 230)]\n",
      "  warnings.warn(w)\n"
     ]
    },
    {
     "name": "stdout",
     "output_type": "stream",
     "text": [
      "gbm prediction progress: |████████████████████████████████████████████████| 100%\n"
     ]
    },
    {
     "name": "stderr",
     "output_type": "stream",
     "text": [
      "/home/datageek/.local/lib/python3.6/site-packages/h2o/job.py:70: UserWarning: Test/Validation dataset column 'galaxy' has levels not trained on: [Andromeda Galaxy (M31), Andromeda XVIII[60], KKR 03 (KK98 230)]\n",
      "  warnings.warn(w)\n"
     ]
    },
    {
     "name": "stdout",
     "output_type": "stream",
     "text": [
      "Parse progress: |█████████████████████████████████████████████████████████| 100%\n",
      "Parse progress: |█████████████████████████████████████████████████████████| 100%\n",
      "Parse progress: |█████████████████████████████████████████████████████████| 100%\n",
      "gbm Grid Build progress: |████████████████████████████████████████████████| 100%\n",
      "gbm prediction progress: |████████████████████████████████████████████████| 100%\n",
      "gbm prediction progress: |████████████████████████████████████████████████| 100%\n",
      "Parse progress: |█████████████████████████████████████████████████████████| 100%\n",
      "Parse progress: |█████████████████████████████████████████████████████████| 100%\n",
      "Parse progress: |█████████████████████████████████████████████████████████| 100%\n",
      "gbm Grid Build progress: |████████████████████████████████████████████████| 100%\n",
      "gbm prediction progress: |████████████████████████████████████████████████| 100%\n",
      "gbm prediction progress: |████████████████████████████████████████████████| 100%\n",
      "Parse progress: |█████████████████████████████████████████████████████████| 100%\n",
      "Parse progress: |█████████████████████████████████████████████████████████| 100%\n",
      "Parse progress: |█████████████████████████████████████████████████████████| 100%\n",
      "gbm Grid Build progress: |████████████████████████████████████████████████| 100%\n",
      "gbm prediction progress: |████████████████████████████████████████████████| 100%\n",
      "gbm prediction progress: |████████████████████████████████████████████████| 100%\n",
      "Parse progress: |█████████████████████████████████████████████████████████| 100%\n",
      "Parse progress: |█████████████████████████████████████████████████████████| 100%\n",
      "Parse progress: |█████████████████████████████████████████████████████████| 100%\n",
      "gbm Grid Build progress: |████████████████████████████████████████████████| 100%\n",
      "gbm prediction progress: |████████████████████████████████████████████████| 100%\n",
      "gbm prediction progress: |████████████████████████████████████████████████| 100%\n"
     ]
    },
    {
     "name": "stderr",
     "output_type": "stream",
     "text": [
      "/home/datageek/.local/lib/python3.6/site-packages/h2o/job.py:70: UserWarning: Test/Validation dataset column 'galaxy' has levels not trained on: [Andromeda XVIII[60]]\n",
      "  warnings.warn(w)\n"
     ]
    },
    {
     "name": "stdout",
     "output_type": "stream",
     "text": [
      "Parse progress: |█████████████████████████████████████████████████████████| 100%\n",
      "Parse progress: |█████████████████████████████████████████████████████████| 100%\n",
      "Parse progress: |█████████████████████████████████████████████████████████| 100%\n",
      "gbm Grid Build progress: |████████████████████████████████████████████████| 100%\n",
      "gbm prediction progress: |████████████████████████████████████████████████| 100%\n"
     ]
    },
    {
     "name": "stderr",
     "output_type": "stream",
     "text": [
      "/home/datageek/.local/lib/python3.6/site-packages/h2o/job.py:70: UserWarning: Test/Validation dataset column 'galaxy' has levels not trained on: [Andromeda XI, Andromeda XXIX, ESO 540-030 (KDG 2), HIPASS J1247-77, Holmberg II (DDO 50, UGC 4305), KUG 1210+301B (KK98 127), Large Magellanic Cloud (LMC), Leo I Dwarf (DDO 74, UGC 5470), Leo V Dwarf, Pegasus III, Pisces III (Andromeda XIII), Pisces V (Andromeda XVI), Reticulum III, Sextans B (UGC 5373), UGC 8651 (DDO 181), UGCA 15 (DDO 6), Virgo I]\n",
      "  warnings.warn(w)\n"
     ]
    },
    {
     "name": "stdout",
     "output_type": "stream",
     "text": [
      "gbm prediction progress: |████████████████████████████████████████████████| 100%\n"
     ]
    },
    {
     "name": "stderr",
     "output_type": "stream",
     "text": [
      "/home/datageek/.local/lib/python3.6/site-packages/h2o/job.py:70: UserWarning: Test/Validation dataset column 'galaxy' has levels not trained on: [Andromeda XI, Andromeda XVIII[60], Andromeda XXIX, ESO 540-030 (KDG 2), HIPASS J1247-77, Hercules Dwarf, Holmberg II (DDO 50, UGC 4305), KUG 1210+301B (KK98 127), Large Magellanic Cloud (LMC), Leo I Dwarf (DDO 74, UGC 5470), Leo V Dwarf, Pegasus III, Pisces III (Andromeda XIII), Pisces V (Andromeda XVI), Reticulum III, Sextans B (UGC 5373), UGC 8651 (DDO 181), UGCA 15 (DDO 6), Virgo I]\n",
      "  warnings.warn(w)\n"
     ]
    },
    {
     "name": "stdout",
     "output_type": "stream",
     "text": [
      "Parse progress: |█████████████████████████████████████████████████████████| 100%\n",
      "Parse progress: |█████████████████████████████████████████████████████████| 100%\n",
      "Parse progress: |█████████████████████████████████████████████████████████| 100%\n",
      "gbm Grid Build progress: |████████████████████████████████████████████████| 100%\n",
      "gbm prediction progress: |████████████████████████████████████████████████| 100%\n"
     ]
    },
    {
     "name": "stderr",
     "output_type": "stream",
     "text": [
      "/home/datageek/.local/lib/python3.6/site-packages/h2o/job.py:70: UserWarning: Test/Validation dataset column 'galaxy' has levels not trained on: [Sextans A (92205, DDO 75), UGC 8651 (DDO 181), UGCA 438 (ESO 407-018)]\n",
      "  warnings.warn(w)\n"
     ]
    },
    {
     "name": "stdout",
     "output_type": "stream",
     "text": [
      "gbm prediction progress: |████████████████████████████████████████████████| 100%\n",
      "Parse progress: |█████████████████████████████████████████████████████████| 100%\n",
      "Parse progress: |█████████████████████████████████████████████████████████| 100%\n",
      "Parse progress: |█████████████████████████████████████████████████████████| 100%\n",
      "drf Grid Build progress: |████████████████████████████████████████████████| 100%\n",
      "drf prediction progress: |████████████████████████████████████████████████| 100%\n"
     ]
    },
    {
     "name": "stderr",
     "output_type": "stream",
     "text": [
      "/home/datageek/.local/lib/python3.6/site-packages/h2o/job.py:70: UserWarning: Test/Validation dataset column 'galaxy' has levels not trained on: [Andromeda XI, ESO 383-087 (ISG 39), Eridanus II, IC 342, KKh 086, NGC 4214 (UGC 7278), UGCA 86]\n",
      "  warnings.warn(w)\n"
     ]
    },
    {
     "name": "stdout",
     "output_type": "stream",
     "text": [
      "drf prediction progress: |████████████████████████████████████████████████| 100%\n"
     ]
    },
    {
     "name": "stderr",
     "output_type": "stream",
     "text": [
      "/home/datageek/.local/lib/python3.6/site-packages/h2o/job.py:70: UserWarning: Test/Validation dataset column 'galaxy' has levels not trained on: [Andromeda XI, Andromeda XII, Andromeda XVIII[60], ESO 383-087 (ISG 39), Eridanus II, IC 342, KKh 086, NGC 4214 (UGC 7278), UGCA 86]\n",
      "  warnings.warn(w)\n"
     ]
    },
    {
     "name": "stdout",
     "output_type": "stream",
     "text": [
      "H2O session _sid_a931 closed.\n"
     ]
    }
   ],
   "source": [
    "test, train = process_raw(\"Data/test.csv\").pipe(take_difference).pipe(take_population_rates).pipe(imputation_waves)"
   ]
  },
  {
   "cell_type": "code",
   "execution_count": 3,
   "metadata": {},
   "outputs": [],
   "source": [
    "test.to_csv(\"Data/test_imputed.csv\",index = False)\n",
    "train.to_csv(\"Data/train_imputed.csv\", index=False)"
   ]
  },
  {
   "cell_type": "code",
   "execution_count": null,
   "metadata": {},
   "outputs": [],
   "source": []
  }
 ],
 "metadata": {
  "kernelspec": {
   "display_name": "mck",
   "language": "python",
   "name": "mck"
  },
  "language_info": {
   "codemirror_mode": {
    "name": "ipython",
    "version": 3
   },
   "file_extension": ".py",
   "mimetype": "text/x-python",
   "name": "python",
   "nbconvert_exporter": "python",
   "pygments_lexer": "ipython3",
   "version": "3.6.9"
  }
 },
 "nbformat": 4,
 "nbformat_minor": 4
}
