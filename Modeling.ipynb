{
 "cells": [
  {
   "cell_type": "code",
   "execution_count": 61,
   "metadata": {},
   "outputs": [],
   "source": [
    "import pandas as pd\n",
    "import numpy as np \n",
    "from pygam import LinearGAM, GAM, s, f, te, l\n",
    "from sklearn.metrics import mean_squared_error\n",
    "from math import sqrt\n",
    "from sklearn.model_selection import train_test_split\n",
    "from sklearn.linear_model import LinearRegression\n",
    "from sklearn.ensemble import RandomForestRegressor\n",
    "import xgboost as xgb\n",
    "import re\n",
    "from sklearn.model_selection import GridSearchCV\n",
    "import h2o\n",
    "from h2o.estimators import H2OGradientBoostingEstimator\n",
    "from h2o.estimators.random_forest import H2ORandomForestEstimator\n",
    "from h2o.grid.grid_search import H2OGridSearch\n",
    "from scipy.optimize import linprog"
   ]
  },
  {
   "cell_type": "code",
   "execution_count": 22,
   "metadata": {},
   "outputs": [],
   "source": [
    "train_df = pd.read_csv(\"Data/train_imputed.csv\")"
   ]
  },
  {
   "cell_type": "code",
   "execution_count": 23,
   "metadata": {},
   "outputs": [],
   "source": [
    "train_df['y_log10'] = np.log10(train_df.y)"
   ]
  },
  {
   "cell_type": "code",
   "execution_count": 54,
   "metadata": {},
   "outputs": [
    {
     "name": "stdout",
     "output_type": "stream",
     "text": [
      "Checking whether there is an H2O instance running at http://localhost:54321 . connected.\n"
     ]
    },
    {
     "data": {
      "text/html": [
       "<div style=\"overflow:auto\"><table style=\"width:50%\"><tr><td>H2O_cluster_uptime:</td>\n",
       "<td>2 hours 18 mins</td></tr>\n",
       "<tr><td>H2O_cluster_timezone:</td>\n",
       "<td>Etc/UTC</td></tr>\n",
       "<tr><td>H2O_data_parsing_timezone:</td>\n",
       "<td>UTC</td></tr>\n",
       "<tr><td>H2O_cluster_version:</td>\n",
       "<td>3.30.0.3</td></tr>\n",
       "<tr><td>H2O_cluster_version_age:</td>\n",
       "<td>1 month and 3 days </td></tr>\n",
       "<tr><td>H2O_cluster_name:</td>\n",
       "<td>H2O_from_python_datageek_q5dlzr</td></tr>\n",
       "<tr><td>H2O_cluster_total_nodes:</td>\n",
       "<td>1</td></tr>\n",
       "<tr><td>H2O_cluster_free_memory:</td>\n",
       "<td>1.616 Gb</td></tr>\n",
       "<tr><td>H2O_cluster_total_cores:</td>\n",
       "<td>2</td></tr>\n",
       "<tr><td>H2O_cluster_allowed_cores:</td>\n",
       "<td>2</td></tr>\n",
       "<tr><td>H2O_cluster_status:</td>\n",
       "<td>locked, healthy</td></tr>\n",
       "<tr><td>H2O_connection_url:</td>\n",
       "<td>http://localhost:54321</td></tr>\n",
       "<tr><td>H2O_connection_proxy:</td>\n",
       "<td>{\"http\": null, \"https\": null}</td></tr>\n",
       "<tr><td>H2O_internal_security:</td>\n",
       "<td>False</td></tr>\n",
       "<tr><td>H2O_API_Extensions:</td>\n",
       "<td>Amazon S3, XGBoost, Algos, AutoML, Core V3, TargetEncoder, Core V4</td></tr>\n",
       "<tr><td>Python_version:</td>\n",
       "<td>3.6.9 final</td></tr></table></div>"
      ],
      "text/plain": [
       "--------------------------  ------------------------------------------------------------------\n",
       "H2O_cluster_uptime:         2 hours 18 mins\n",
       "H2O_cluster_timezone:       Etc/UTC\n",
       "H2O_data_parsing_timezone:  UTC\n",
       "H2O_cluster_version:        3.30.0.3\n",
       "H2O_cluster_version_age:    1 month and 3 days\n",
       "H2O_cluster_name:           H2O_from_python_datageek_q5dlzr\n",
       "H2O_cluster_total_nodes:    1\n",
       "H2O_cluster_free_memory:    1.616 Gb\n",
       "H2O_cluster_total_cores:    2\n",
       "H2O_cluster_allowed_cores:  2\n",
       "H2O_cluster_status:         locked, healthy\n",
       "H2O_connection_url:         http://localhost:54321\n",
       "H2O_connection_proxy:       {\"http\": null, \"https\": null}\n",
       "H2O_internal_security:      False\n",
       "H2O_API_Extensions:         Amazon S3, XGBoost, Algos, AutoML, Core V3, TargetEncoder, Core V4\n",
       "Python_version:             3.6.9 final\n",
       "--------------------------  ------------------------------------------------------------------"
      ]
     },
     "metadata": {},
     "output_type": "display_data"
    },
    {
     "name": "stdout",
     "output_type": "stream",
     "text": [
      "Parse progress: |█████████████████████████████████████████████████████████| 100%\n",
      "gbm Grid Build progress: |███████████████████████████████████ (failed)\n"
     ]
    },
    {
     "ename": "OSError",
     "evalue": "Job with key $03017f00000132d4ffffffff$_abf6e611d996edd7e158786044cc407d failed with an exception: java.lang.AssertionError: I am really confused about the heap usage; MEM_MAX=3739746304 heapUsedGC=4003317248\nstacktrace: \njava.lang.AssertionError: I am really confused about the heap usage; MEM_MAX=3739746304 heapUsedGC=4003317248\n\tat water.MemoryManager.set_goals(MemoryManager.java:98)\n\tat water.MemoryManager.malloc(MemoryManager.java:267)\n\tat water.MemoryManager.malloc(MemoryManager.java:223)\n\tat water.MemoryManager.malloc8d(MemoryManager.java:289)\n\tat hex.tree.DTree.findBestSplitPoint(DTree.java:860)\n\tat hex.tree.DTree$DecidedNode$FindSplits.computeSplit(DTree.java:539)\n\tat hex.tree.DTree$DecidedNode$FindSplits.compute(DTree.java:522)\n\tat jsr166y.RecursiveAction.exec(RecursiveAction.java:160)\n\tat jsr166y.ForkJoinTask.doExec(ForkJoinTask.java:263)\n\tat jsr166y.ForkJoinTask.doJoin(ForkJoinTask.java:344)\n\tat jsr166y.ForkJoinTask.invokeAll(ForkJoinTask.java:806)\n\tat hex.tree.DTree$DecidedNode.bestCol(DTree.java:500)\n\tat hex.tree.DTree$DecidedNode.<init>(DTree.java:547)\n\tat hex.tree.SharedTree.makeDecided(SharedTree.java:675)\n\tat hex.tree.SharedTree$ScoreBuildOneTree.onCompletion(SharedTree.java:598)\n\tat jsr166y.CountedCompleter.__tryComplete(CountedCompleter.java:425)\n\tat jsr166y.CountedCompleter.tryComplete(CountedCompleter.java:383)\n\tat water.LocalMR.compute2(LocalMR.java:91)\n\tat water.H2O$H2OCountedCompleter.compute(H2O.java:1557)\n\tat jsr166y.CountedCompleter.exec(CountedCompleter.java:468)\n\tat jsr166y.ForkJoinTask.doExec(ForkJoinTask.java:263)\n\tat jsr166y.ForkJoinPool$WorkQueue.popAndExecAll(ForkJoinPool.java:904)\n\tat jsr166y.ForkJoinPool$WorkQueue.runTask(ForkJoinPool.java:977)\n\tat jsr166y.ForkJoinPool.runWorker(ForkJoinPool.java:1477)\n\tat jsr166y.ForkJoinWorkerThread.run(ForkJoinWorkerThread.java:104)\n",
     "output_type": "error",
     "traceback": [
      "\u001b[0;31m---------------------------------------------------------------------------\u001b[0m",
      "\u001b[0;31mOSError\u001b[0m                                   Traceback (most recent call last)",
      "\u001b[0;32m<ipython-input-54-6eeb5be9d4fb>\u001b[0m in \u001b[0;36m<module>\u001b[0;34m\u001b[0m\n\u001b[1;32m     52\u001b[0m                        search_criteria = search_criteria_tune)\n\u001b[1;32m     53\u001b[0m \u001b[0;34m\u001b[0m\u001b[0m\n\u001b[0;32m---> 54\u001b[0;31m \u001b[0mh2ogbm\u001b[0m\u001b[0;34m.\u001b[0m\u001b[0mtrain\u001b[0m\u001b[0;34m(\u001b[0m\u001b[0mx\u001b[0m\u001b[0;34m=\u001b[0m\u001b[0mpredictors\u001b[0m\u001b[0;34m,\u001b[0m \u001b[0my\u001b[0m\u001b[0;34m=\u001b[0m\u001b[0mresponse\u001b[0m\u001b[0;34m,\u001b[0m \u001b[0mtraining_frame\u001b[0m\u001b[0;34m=\u001b[0m\u001b[0mtrain\u001b[0m\u001b[0;34m,\u001b[0m \u001b[0mseed\u001b[0m\u001b[0;34m=\u001b[0m\u001b[0;36m1111\u001b[0m\u001b[0;34m)\u001b[0m\u001b[0;34m\u001b[0m\u001b[0;34m\u001b[0m\u001b[0m\n\u001b[0m\u001b[1;32m     55\u001b[0m \u001b[0;34m\u001b[0m\u001b[0m\n\u001b[1;32m     56\u001b[0m \u001b[0;34m\u001b[0m\u001b[0m\n",
      "\u001b[0;32m~/.local/lib/python3.6/site-packages/h2o/grid/grid_search.py\u001b[0m in \u001b[0;36mtrain\u001b[0;34m(self, x, y, training_frame, offset_column, fold_column, weights_column, validation_frame, **params)\u001b[0m\n\u001b[1;32m    340\u001b[0m         \u001b[0mx\u001b[0m \u001b[0;34m=\u001b[0m \u001b[0mlist\u001b[0m\u001b[0;34m(\u001b[0m\u001b[0mxset\u001b[0m\u001b[0;34m)\u001b[0m\u001b[0;34m\u001b[0m\u001b[0;34m\u001b[0m\u001b[0m\n\u001b[1;32m    341\u001b[0m         \u001b[0mparms\u001b[0m\u001b[0;34m[\u001b[0m\u001b[0;34m\"x\"\u001b[0m\u001b[0;34m]\u001b[0m \u001b[0;34m=\u001b[0m \u001b[0mx\u001b[0m\u001b[0;34m\u001b[0m\u001b[0;34m\u001b[0m\u001b[0m\n\u001b[0;32m--> 342\u001b[0;31m         \u001b[0mself\u001b[0m\u001b[0;34m.\u001b[0m\u001b[0mbuild_model\u001b[0m\u001b[0;34m(\u001b[0m\u001b[0mparms\u001b[0m\u001b[0;34m)\u001b[0m\u001b[0;34m\u001b[0m\u001b[0;34m\u001b[0m\u001b[0m\n\u001b[0m\u001b[1;32m    343\u001b[0m \u001b[0;34m\u001b[0m\u001b[0m\n\u001b[1;32m    344\u001b[0m \u001b[0;34m\u001b[0m\u001b[0m\n",
      "\u001b[0;32m~/.local/lib/python3.6/site-packages/h2o/grid/grid_search.py\u001b[0m in \u001b[0;36mbuild_model\u001b[0;34m(self, algo_params)\u001b[0m\n\u001b[1;32m    358\u001b[0m             \u001b[0my\u001b[0m \u001b[0;34m=\u001b[0m \u001b[0my\u001b[0m \u001b[0;32mif\u001b[0m \u001b[0my\u001b[0m \u001b[0;32min\u001b[0m \u001b[0mtraining_frame\u001b[0m\u001b[0;34m.\u001b[0m\u001b[0mnames\u001b[0m \u001b[0;32melse\u001b[0m \u001b[0mtraining_frame\u001b[0m\u001b[0;34m.\u001b[0m\u001b[0mnames\u001b[0m\u001b[0;34m[\u001b[0m\u001b[0my\u001b[0m\u001b[0;34m]\u001b[0m\u001b[0;34m\u001b[0m\u001b[0;34m\u001b[0m\u001b[0m\n\u001b[1;32m    359\u001b[0m             \u001b[0mself\u001b[0m\u001b[0;34m.\u001b[0m\u001b[0mmodel\u001b[0m\u001b[0;34m.\u001b[0m\u001b[0m_estimator_type\u001b[0m \u001b[0;34m=\u001b[0m \u001b[0;34m\"classifier\"\u001b[0m \u001b[0;32mif\u001b[0m \u001b[0mtraining_frame\u001b[0m\u001b[0;34m.\u001b[0m\u001b[0mtypes\u001b[0m\u001b[0;34m[\u001b[0m\u001b[0my\u001b[0m\u001b[0;34m]\u001b[0m \u001b[0;34m==\u001b[0m \u001b[0;34m\"enum\"\u001b[0m \u001b[0;32melse\u001b[0m \u001b[0;34m\"regressor\"\u001b[0m\u001b[0;34m\u001b[0m\u001b[0;34m\u001b[0m\u001b[0m\n\u001b[0;32m--> 360\u001b[0;31m         \u001b[0mself\u001b[0m\u001b[0;34m.\u001b[0m\u001b[0m_model_build\u001b[0m\u001b[0;34m(\u001b[0m\u001b[0mx\u001b[0m\u001b[0;34m,\u001b[0m \u001b[0my\u001b[0m\u001b[0;34m,\u001b[0m \u001b[0mtraining_frame\u001b[0m\u001b[0;34m,\u001b[0m \u001b[0mvalidation_frame\u001b[0m\u001b[0;34m,\u001b[0m \u001b[0malgo_params\u001b[0m\u001b[0;34m)\u001b[0m\u001b[0;34m\u001b[0m\u001b[0;34m\u001b[0m\u001b[0m\n\u001b[0m\u001b[1;32m    361\u001b[0m \u001b[0;34m\u001b[0m\u001b[0m\n\u001b[1;32m    362\u001b[0m \u001b[0;34m\u001b[0m\u001b[0m\n",
      "\u001b[0;32m~/.local/lib/python3.6/site-packages/h2o/grid/grid_search.py\u001b[0m in \u001b[0;36m_model_build\u001b[0;34m(self, x, y, tframe, vframe, kwargs)\u001b[0m\n\u001b[1;32m    386\u001b[0m             \u001b[0;32mreturn\u001b[0m\u001b[0;34m\u001b[0m\u001b[0;34m\u001b[0m\u001b[0m\n\u001b[1;32m    387\u001b[0m \u001b[0;34m\u001b[0m\u001b[0m\n\u001b[0;32m--> 388\u001b[0;31m         \u001b[0mgrid\u001b[0m\u001b[0;34m.\u001b[0m\u001b[0mpoll\u001b[0m\u001b[0;34m(\u001b[0m\u001b[0;34m)\u001b[0m\u001b[0;34m\u001b[0m\u001b[0;34m\u001b[0m\u001b[0m\n\u001b[0m\u001b[1;32m    389\u001b[0m \u001b[0;34m\u001b[0m\u001b[0m\n\u001b[1;32m    390\u001b[0m         \u001b[0mgrid_json\u001b[0m \u001b[0;34m=\u001b[0m \u001b[0mh2o\u001b[0m\u001b[0;34m.\u001b[0m\u001b[0mapi\u001b[0m\u001b[0;34m(\u001b[0m\u001b[0;34m\"GET /99/Grids/%s\"\u001b[0m \u001b[0;34m%\u001b[0m \u001b[0;34m(\u001b[0m\u001b[0mgrid\u001b[0m\u001b[0;34m.\u001b[0m\u001b[0mdest_key\u001b[0m\u001b[0;34m)\u001b[0m\u001b[0;34m)\u001b[0m\u001b[0;34m\u001b[0m\u001b[0;34m\u001b[0m\u001b[0m\n",
      "\u001b[0;32m~/.local/lib/python3.6/site-packages/h2o/job.py\u001b[0m in \u001b[0;36mpoll\u001b[0;34m(self, poll_updates)\u001b[0m\n\u001b[1;32m     76\u001b[0m             \u001b[0;32mif\u001b[0m \u001b[0;34m(\u001b[0m\u001b[0misinstance\u001b[0m\u001b[0;34m(\u001b[0m\u001b[0mself\u001b[0m\u001b[0;34m.\u001b[0m\u001b[0mjob\u001b[0m\u001b[0;34m,\u001b[0m \u001b[0mdict\u001b[0m\u001b[0;34m)\u001b[0m\u001b[0;34m)\u001b[0m \u001b[0;32mand\u001b[0m \u001b[0;34m(\u001b[0m\u001b[0;34m\"stacktrace\"\u001b[0m \u001b[0;32min\u001b[0m \u001b[0mlist\u001b[0m\u001b[0;34m(\u001b[0m\u001b[0mself\u001b[0m\u001b[0;34m.\u001b[0m\u001b[0mjob\u001b[0m\u001b[0;34m)\u001b[0m\u001b[0;34m)\u001b[0m\u001b[0;34m:\u001b[0m\u001b[0;34m\u001b[0m\u001b[0;34m\u001b[0m\u001b[0m\n\u001b[1;32m     77\u001b[0m                 raise EnvironmentError(\"Job with key {} failed with an exception: {}\\nstacktrace: \"\n\u001b[0;32m---> 78\u001b[0;31m                                        \"\\n{}\".format(self.job_key, self.exception, self.job[\"stacktrace\"]))\n\u001b[0m\u001b[1;32m     79\u001b[0m             \u001b[0;32melse\u001b[0m\u001b[0;34m:\u001b[0m\u001b[0;34m\u001b[0m\u001b[0;34m\u001b[0m\u001b[0m\n\u001b[1;32m     80\u001b[0m                 \u001b[0;32mraise\u001b[0m \u001b[0mEnvironmentError\u001b[0m\u001b[0;34m(\u001b[0m\u001b[0;34m\"Job with key %s failed with an exception: %s\"\u001b[0m \u001b[0;34m%\u001b[0m \u001b[0;34m(\u001b[0m\u001b[0mself\u001b[0m\u001b[0;34m.\u001b[0m\u001b[0mjob_key\u001b[0m\u001b[0;34m,\u001b[0m \u001b[0mself\u001b[0m\u001b[0;34m.\u001b[0m\u001b[0mexception\u001b[0m\u001b[0;34m)\u001b[0m\u001b[0;34m)\u001b[0m\u001b[0;34m\u001b[0m\u001b[0;34m\u001b[0m\u001b[0m\n",
      "\u001b[0;31mOSError\u001b[0m: Job with key $03017f00000132d4ffffffff$_abf6e611d996edd7e158786044cc407d failed with an exception: java.lang.AssertionError: I am really confused about the heap usage; MEM_MAX=3739746304 heapUsedGC=4003317248\nstacktrace: \njava.lang.AssertionError: I am really confused about the heap usage; MEM_MAX=3739746304 heapUsedGC=4003317248\n\tat water.MemoryManager.set_goals(MemoryManager.java:98)\n\tat water.MemoryManager.malloc(MemoryManager.java:267)\n\tat water.MemoryManager.malloc(MemoryManager.java:223)\n\tat water.MemoryManager.malloc8d(MemoryManager.java:289)\n\tat hex.tree.DTree.findBestSplitPoint(DTree.java:860)\n\tat hex.tree.DTree$DecidedNode$FindSplits.computeSplit(DTree.java:539)\n\tat hex.tree.DTree$DecidedNode$FindSplits.compute(DTree.java:522)\n\tat jsr166y.RecursiveAction.exec(RecursiveAction.java:160)\n\tat jsr166y.ForkJoinTask.doExec(ForkJoinTask.java:263)\n\tat jsr166y.ForkJoinTask.doJoin(ForkJoinTask.java:344)\n\tat jsr166y.ForkJoinTask.invokeAll(ForkJoinTask.java:806)\n\tat hex.tree.DTree$DecidedNode.bestCol(DTree.java:500)\n\tat hex.tree.DTree$DecidedNode.<init>(DTree.java:547)\n\tat hex.tree.SharedTree.makeDecided(SharedTree.java:675)\n\tat hex.tree.SharedTree$ScoreBuildOneTree.onCompletion(SharedTree.java:598)\n\tat jsr166y.CountedCompleter.__tryComplete(CountedCompleter.java:425)\n\tat jsr166y.CountedCompleter.tryComplete(CountedCompleter.java:383)\n\tat water.LocalMR.compute2(LocalMR.java:91)\n\tat water.H2O$H2OCountedCompleter.compute(H2O.java:1557)\n\tat jsr166y.CountedCompleter.exec(CountedCompleter.java:468)\n\tat jsr166y.ForkJoinTask.doExec(ForkJoinTask.java:263)\n\tat jsr166y.ForkJoinPool$WorkQueue.popAndExecAll(ForkJoinPool.java:904)\n\tat jsr166y.ForkJoinPool$WorkQueue.runTask(ForkJoinPool.java:977)\n\tat jsr166y.ForkJoinPool.runWorker(ForkJoinPool.java:1477)\n\tat jsr166y.ForkJoinWorkerThread.run(ForkJoinWorkerThread.java:104)\n"
     ]
    }
   ],
   "source": [
    "df = train_df.copy()\n",
    "\n",
    "h2o.init()\n",
    "\n",
    "h2o_df = h2o.H2OFrame(df)\n",
    "\n",
    "train, test = h2o_df.split_frame(ratios=[.8], seed=1234)\n",
    "\n",
    "\n",
    "predictors = df.loc[:, (df.columns != 'y') & (df.columns != 'y_log10')].columns\n",
    "\n",
    "response = 'y_log10'\n",
    "\n",
    "hyper_params_tune = {'max_depth' : list(range(1,40,1)),\n",
    "            'sample_rate': [x/100. for x in range(20,101)],\n",
    "            'col_sample_rate' : [x/100. for x in range(20,101)],\n",
    "            'col_sample_rate_per_tree': [x/100. for x in range(20,101)],\n",
    "            'col_sample_rate_change_per_level': [x/100. for x in range(90,111)],\n",
    "            'min_rows': [1,2,4,8,16,25],\n",
    "            'nbins': [2**x for x in range(4,9)],\n",
    "            'nbins_cats': [2**x for x in range(4,12)],\n",
    "            'min_split_improvement': [0,1e-8,1e-6,1e-4],\n",
    "            'histogram_type': [\"UniformAdaptive\",\"QuantilesGlobal\",\"RoundRobin\"]}\n",
    "\n",
    "search_criteria_tune = {'strategy': \"RandomDiscrete\",\n",
    "                   'max_runtime_secs': 10000,  ## limit the runtime to 60 minutes\n",
    "                   'max_models': 100,  ## build no more than 100 models\n",
    "                   'seed' : 1234,\n",
    "                   'stopping_rounds' : 5,\n",
    "                   'stopping_metric' : \"rmse\",\n",
    "                   'stopping_tolerance': 1e-5\n",
    "                   }\n",
    "\n",
    "\n",
    "\n",
    "h2ogbm = H2OGradientBoostingEstimator(nfolds=5,\n",
    "                                     learn_rate=0.05,\n",
    "                                     learn_rate_annealing = 0.99,\n",
    "                                     score_tree_interval = 10, \n",
    "                                     stopping_rounds = 5,\n",
    "                                     stopping_metric = \"rmse\",\n",
    "                                     stopping_tolerance = 1e-5,\n",
    "                                     ntrees= 1000,\n",
    "                                     seed=1111,\n",
    "                                     keep_cross_validation_predictions = True,\n",
    "                                     distribution ='gaussian')\n",
    "\n",
    "\n",
    "\n",
    "\n",
    "h2ogbm = H2OGridSearch(h2ogbm, grid_id='gbm_.{0}'.format(response), hyper_params=hyper_params_tune,\n",
    "                       search_criteria = search_criteria_tune)\n",
    "\n",
    "h2ogbm.train(x=predictors, y=response, training_frame=train, seed=1111)\n",
    "\n",
    "\n",
    "gbm_gridperf1 = h2ogbm.get_grid(sort_by='mse', decreasing=False)\n",
    "\n",
    "\n",
    "bestgbm = gbm_gridperf1.models[0]\n",
    "\n",
    "pred = h2o.as_list(bestgbm.predict(test[:, list(predictors)]), use_pandas=True)\n",
    "\n",
    "pred = np.array(10 ** pred['predict'])\n",
    "\n",
    "rmse = mean_squared_error(h2o.as_list(test['y']),pred, squared = False)\n",
    "\n",
    "rmse = mean_squared_error(h2o.as_list(test['y']),pred, squared = False)\n",
    "print('RMSE for {0}: {1}'.format('y',rmse))\n"
   ]
  },
  {
   "cell_type": "code",
   "execution_count": 55,
   "metadata": {},
   "outputs": [
    {
     "name": "stderr",
     "output_type": "stream",
     "text": [
      "/usr/local/lib/python3.6/dist-packages/ipykernel_launcher.py:1: DeprecationWarning: Deprecated, use ``h2o.cluster().shutdown()``.\n",
      "  \"\"\"Entry point for launching an IPython kernel.\n"
     ]
    },
    {
     "name": "stdout",
     "output_type": "stream",
     "text": [
      "H2O session _sid_97c5 closed.\n"
     ]
    }
   ],
   "source": []
  },
  {
   "cell_type": "code",
   "execution_count": 57,
   "metadata": {},
   "outputs": [
    {
     "name": "stdout",
     "output_type": "stream",
     "text": [
      "Checking whether there is an H2O instance running at http://localhost:54321 ..... not found.\n",
      "Attempting to start a local H2O server...\n",
      "  Java Version: openjdk version \"1.8.0_252\"; OpenJDK Runtime Environment (build 1.8.0_252-8u252-b09-1~18.04-b09); OpenJDK 64-Bit Server VM (build 25.252-b09, mixed mode)\n",
      "  Starting server from /home/datageek/.local/lib/python3.6/site-packages/h2o/backend/bin/h2o.jar\n",
      "  Ice root: /tmp/tmpqu_vesm2\n",
      "  JVM stdout: /tmp/tmpqu_vesm2/h2o_datageek_started_from_python.out\n",
      "  JVM stderr: /tmp/tmpqu_vesm2/h2o_datageek_started_from_python.err\n",
      "  Server is running at http://127.0.0.1:54321\n",
      "Connecting to H2O server at http://127.0.0.1:54321 ... successful.\n"
     ]
    },
    {
     "data": {
      "text/html": [
       "<div style=\"overflow:auto\"><table style=\"width:50%\"><tr><td>H2O_cluster_uptime:</td>\n",
       "<td>01 secs</td></tr>\n",
       "<tr><td>H2O_cluster_timezone:</td>\n",
       "<td>Etc/UTC</td></tr>\n",
       "<tr><td>H2O_data_parsing_timezone:</td>\n",
       "<td>UTC</td></tr>\n",
       "<tr><td>H2O_cluster_version:</td>\n",
       "<td>3.30.0.3</td></tr>\n",
       "<tr><td>H2O_cluster_version_age:</td>\n",
       "<td>1 month and 3 days </td></tr>\n",
       "<tr><td>H2O_cluster_name:</td>\n",
       "<td>H2O_from_python_datageek_c9ibdf</td></tr>\n",
       "<tr><td>H2O_cluster_total_nodes:</td>\n",
       "<td>1</td></tr>\n",
       "<tr><td>H2O_cluster_free_memory:</td>\n",
       "<td>3.483 Gb</td></tr>\n",
       "<tr><td>H2O_cluster_total_cores:</td>\n",
       "<td>2</td></tr>\n",
       "<tr><td>H2O_cluster_allowed_cores:</td>\n",
       "<td>2</td></tr>\n",
       "<tr><td>H2O_cluster_status:</td>\n",
       "<td>accepting new members, healthy</td></tr>\n",
       "<tr><td>H2O_connection_url:</td>\n",
       "<td>http://127.0.0.1:54321</td></tr>\n",
       "<tr><td>H2O_connection_proxy:</td>\n",
       "<td>{\"http\": null, \"https\": null}</td></tr>\n",
       "<tr><td>H2O_internal_security:</td>\n",
       "<td>False</td></tr>\n",
       "<tr><td>H2O_API_Extensions:</td>\n",
       "<td>Amazon S3, XGBoost, Algos, AutoML, Core V3, TargetEncoder, Core V4</td></tr>\n",
       "<tr><td>Python_version:</td>\n",
       "<td>3.6.9 final</td></tr></table></div>"
      ],
      "text/plain": [
       "--------------------------  ------------------------------------------------------------------\n",
       "H2O_cluster_uptime:         01 secs\n",
       "H2O_cluster_timezone:       Etc/UTC\n",
       "H2O_data_parsing_timezone:  UTC\n",
       "H2O_cluster_version:        3.30.0.3\n",
       "H2O_cluster_version_age:    1 month and 3 days\n",
       "H2O_cluster_name:           H2O_from_python_datageek_c9ibdf\n",
       "H2O_cluster_total_nodes:    1\n",
       "H2O_cluster_free_memory:    3.483 Gb\n",
       "H2O_cluster_total_cores:    2\n",
       "H2O_cluster_allowed_cores:  2\n",
       "H2O_cluster_status:         accepting new members, healthy\n",
       "H2O_connection_url:         http://127.0.0.1:54321\n",
       "H2O_connection_proxy:       {\"http\": null, \"https\": null}\n",
       "H2O_internal_security:      False\n",
       "H2O_API_Extensions:         Amazon S3, XGBoost, Algos, AutoML, Core V3, TargetEncoder, Core V4\n",
       "Python_version:             3.6.9 final\n",
       "--------------------------  ------------------------------------------------------------------"
      ]
     },
     "metadata": {},
     "output_type": "display_data"
    },
    {
     "name": "stdout",
     "output_type": "stream",
     "text": [
      "Parse progress: |█████████████████████████████████████████████████████████| 100%\n",
      "gbm Model Build progress: |███████████████████████████████████████████████| 100%\n",
      "gbm prediction progress: |████████████████████████████████████████████████| 100%\n",
      "RMSE for y: 0.007716646339543673\n"
     ]
    }
   ],
   "source": [
    "h2o.init()\n",
    "df = train_df.copy()\n",
    "\n",
    "\n",
    "h2o_df = h2o.H2OFrame(df)\n",
    "\n",
    "train, test = h2o_df.split_frame(ratios=[.8], seed=1234)\n",
    "\n",
    "predictors = list(importance[:25])\n",
    "response = 'y_log10'\n",
    "\n",
    "# Build and train the model:\n",
    "pros_gbm = H2OGradientBoostingEstimator(\n",
    "                                        nfolds=5,\n",
    "                                        seed=1111,\n",
    "                                        keep_cross_validation_predictions = True,\n",
    "                                        max_depth = 7,\n",
    "                                        sample_rate = 0.64,\n",
    "                                        col_sample_rate = 0.6,\n",
    "                                        col_sample_rate_per_tree = 0.89,\n",
    "                                        col_sample_rate_change_per_level = 1.0,\n",
    "                                        min_rows = 1.0,\n",
    "                                        nbins = 16,\n",
    "                                        nbins_cats = 256,\n",
    "                                        min_split_improvement = 0.0,\n",
    "                                        histogram_type = 'UniformAdaptive',\n",
    "                                        learn_rate=0.05,\n",
    "                                        learn_rate_annealing = 0.99,\n",
    "                                        score_tree_interval = 10, \n",
    "                                        stopping_rounds = 5,\n",
    "                                        stopping_metric = \"rmse\",\n",
    "                                        stopping_tolerance = 1e-4,\n",
    "                                        ntrees= 1000,\n",
    "                                        distribution ='gaussian'\n",
    "                                       )\n",
    "pros_gbm.train(x=predictors, y=response, training_frame=train)\n",
    "\n",
    "\n",
    "\n",
    "pred = h2o.as_list(pros_gbm.predict(test[:, list(predictors)]), use_pandas=True)\n",
    "\n",
    "pred = np.array(10 ** pred['predict'])\n",
    "\n",
    "#rmse = bestgbm.model_performance(test).rmse()\n",
    "rmse = mean_squared_error(h2o.as_list(test['y']),pred, squared = False)\n",
    "print('RMSE for {0}: {1}'.format('y',rmse))"
   ]
  },
  {
   "cell_type": "code",
   "execution_count": 59,
   "metadata": {},
   "outputs": [
    {
     "name": "stdout",
     "output_type": "stream",
     "text": [
      "gbm Model Build progress: |███████████████████████████████████████████████| 100%\n",
      "Parse progress: |█████████████████████████████████████████████████████████| 100%\n",
      "gbm prediction progress: |████████████████████████████████████████████████| 100%\n"
     ]
    }
   ],
   "source": [
    "pros_gbm.train(x=predictors, y=response, training_frame=h2o_df)\n",
    "test_df = pd.read_csv(\"Data/test_imputed.csv\")\n",
    "df = test_df.copy()\n",
    "df = h2o.H2OFrame(df)\n",
    "pred = h2o.as_list(pros_gbm.predict(df[:, list(predictors)]), use_pandas=True)\n",
    "pred = np.array(10 ** pred['predict'])\n",
    "test_df['pred_y'] = pred "
   ]
  },
  {
   "cell_type": "code",
   "execution_count": 99,
   "metadata": {},
   "outputs": [],
   "source": [
    "c = ((-np.log(test_df.pred_y + 0.01) + 3)**2).values\n",
    "E = (test_df['existence expectancy index'] < 0.7).astype(int).values\n",
    "Tot = np.ones(len(test_df))"
   ]
  },
  {
   "cell_type": "code",
   "execution_count": 112,
   "metadata": {},
   "outputs": [],
   "source": [
    "res = linprog(-c, A_ub=np.array([-E]), b_ub=np.array([-5000]), \n",
    "              A_eq=np.array([Tot]), b_eq=np.array([50000]), bounds=(0,100), method='revised simplex')"
   ]
  },
  {
   "cell_type": "code",
   "execution_count": 113,
   "metadata": {},
   "outputs": [
    {
     "data": {
      "text/plain": [
       "     con: array([0.])\n",
       "     fun: -1851815.658859075\n",
       " message: 'Optimization terminated successfully.'\n",
       "     nit: 708\n",
       "   slack: array([1500.])\n",
       "  status: 0\n",
       " success: True\n",
       "       x: array([100., 100., 100., 100., 100., 100., 100., 100., 100., 100., 100.,\n",
       "       100., 100., 100., 100., 100., 100., 100., 100., 100., 100., 100.,\n",
       "       100., 100., 100., 100., 100., 100., 100., 100., 100., 100., 100.,\n",
       "         0., 100., 100., 100., 100., 100., 100., 100., 100., 100., 100.,\n",
       "         0., 100., 100., 100., 100., 100., 100., 100., 100., 100., 100.,\n",
       "       100., 100., 100., 100., 100., 100., 100., 100., 100., 100., 100.,\n",
       "       100., 100., 100., 100., 100., 100., 100., 100., 100., 100., 100.,\n",
       "       100., 100., 100., 100., 100., 100., 100., 100., 100., 100., 100.,\n",
       "       100., 100., 100., 100., 100., 100., 100., 100., 100., 100., 100.,\n",
       "       100., 100., 100., 100., 100., 100., 100., 100., 100., 100., 100.,\n",
       "       100., 100., 100., 100., 100., 100., 100.,   0., 100., 100., 100.,\n",
       "       100., 100., 100., 100., 100., 100., 100., 100., 100., 100., 100.,\n",
       "       100., 100., 100., 100., 100., 100., 100., 100., 100., 100., 100.,\n",
       "       100., 100., 100., 100., 100., 100., 100., 100.,   0., 100., 100.,\n",
       "       100., 100., 100., 100., 100., 100., 100.,   0., 100., 100., 100.,\n",
       "       100., 100., 100., 100., 100., 100., 100., 100., 100., 100., 100.,\n",
       "       100., 100., 100., 100., 100., 100., 100., 100., 100., 100., 100.,\n",
       "       100., 100., 100., 100., 100., 100., 100., 100., 100., 100., 100.,\n",
       "       100.,   0., 100., 100., 100., 100., 100., 100., 100., 100., 100.,\n",
       "       100., 100., 100., 100., 100.,   0.,   0., 100., 100.,   0., 100.,\n",
       "       100., 100.,   0., 100., 100., 100., 100., 100., 100., 100., 100.,\n",
       "       100.,   0., 100., 100., 100., 100., 100., 100., 100., 100., 100.,\n",
       "       100.,   0., 100., 100., 100., 100., 100.,   0., 100., 100., 100.,\n",
       "       100., 100., 100., 100., 100., 100., 100., 100., 100.,   0., 100.,\n",
       "       100.,   0., 100., 100., 100., 100., 100., 100., 100.,   0.,   0.,\n",
       "       100., 100., 100., 100., 100., 100., 100., 100., 100., 100.,   0.,\n",
       "       100.,   0., 100., 100., 100., 100., 100., 100., 100., 100., 100.,\n",
       "       100., 100., 100., 100., 100., 100., 100., 100., 100.,   0., 100.,\n",
       "         0., 100.,   0., 100., 100., 100., 100., 100., 100., 100.,   0.,\n",
       "         0., 100.,   0., 100., 100., 100., 100., 100., 100., 100., 100.,\n",
       "       100., 100.,   0., 100., 100., 100., 100., 100., 100.,   0., 100.,\n",
       "       100., 100., 100., 100., 100., 100., 100., 100.,   0., 100., 100.,\n",
       "         0., 100., 100.,   0., 100., 100., 100.,   0., 100., 100., 100.,\n",
       "       100., 100., 100., 100.,   0., 100., 100.,   0., 100.,   0.,   0.,\n",
       "         0., 100.,   0., 100., 100.,   0.,   0., 100., 100., 100., 100.,\n",
       "       100., 100.,   0.,   0., 100.,   0.,   0.,   0.,   0., 100., 100.,\n",
       "       100.,   0.,   0., 100., 100., 100., 100.,   0., 100., 100., 100.,\n",
       "       100., 100.,   0., 100., 100., 100.,   0.,   0., 100.,   0., 100.,\n",
       "         0.,   0.,   0., 100., 100.,   0., 100., 100., 100., 100.,   0.,\n",
       "       100., 100.,   0., 100., 100., 100., 100.,   0., 100., 100., 100.,\n",
       "         0., 100., 100., 100.,   0., 100., 100.,   0.,   0., 100.,   0.,\n",
       "         0., 100., 100., 100.,   0., 100., 100., 100.,   0.,   0.,   0.,\n",
       "         0.,   0.,   0.,   0., 100., 100.,   0.,   0.,   0., 100.,   0.,\n",
       "         0., 100.,   0.,   0.,   0., 100.,   0.,   0., 100., 100.,   0.,\n",
       "       100., 100., 100.,   0.,   0.,   0., 100.,   0.,   0.,   0., 100.,\n",
       "         0.,   0., 100., 100.,   0.,   0.,   0.,   0.,   0., 100., 100.,\n",
       "       100., 100.,   0.,   0.,   0., 100.,   0., 100.,   0.,   0., 100.,\n",
       "       100.,   0., 100.,   0.,   0., 100.,   0., 100., 100., 100.,   0.,\n",
       "         0.,   0.,   0., 100., 100.,   0.,   0.,   0.,   0., 100., 100.,\n",
       "       100., 100.,   0., 100.,   0.,   0.,   0.,   0., 100.,   0., 100.,\n",
       "         0.,   0.,   0., 100.,   0.,   0.,   0., 100., 100.,   0.,   0.,\n",
       "       100., 100.,   0., 100.,   0.,   0.,   0.,   0.,   0., 100.,   0.,\n",
       "         0., 100.,   0., 100., 100.,   0., 100.,   0., 100., 100., 100.,\n",
       "         0., 100.,   0.,   0., 100., 100., 100., 100.,   0.,   0., 100.,\n",
       "         0., 100., 100.,   0.,   0.,   0.,   0.,   0.,   0., 100.,   0.,\n",
       "         0.,   0.,   0.,   0., 100.,   0.,   0.,   0.,   0.,   0.,   0.,\n",
       "         0.,   0., 100.,   0.,   0.,   0.,   0.,   0.,   0., 100.,   0.,\n",
       "         0.,   0., 100.,   0.,   0.,   0., 100.,   0.,   0.,   0., 100.,\n",
       "       100.,   0.,   0.,   0., 100.,   0.,   0.,   0.,   0., 100., 100.,\n",
       "       100.,   0.,   0., 100.,   0.,   0.,   0., 100.,   0., 100.,   0.,\n",
       "         0.,   0.,   0.,   0., 100.,   0., 100.,   0.,   0.,   0.,   0.,\n",
       "         0.,   0.,   0., 100.,   0.,   0., 100.,   0., 100.,   0., 100.,\n",
       "         0.,   0.,   0., 100.,   0.,   0., 100.,   0.,   0., 100., 100.,\n",
       "         0., 100.,   0.,   0.,   0.,   0.,   0., 100.,   0.,   0.,   0.,\n",
       "         0.,   0.,   0.,   0.,   0.,   0.,   0.,   0.,   0.,   0.,   0.,\n",
       "         0.,   0.,   0.,   0.,   0.,   0.,   0.,   0., 100.,   0.,   0.,\n",
       "       100., 100., 100.,   0.,   0., 100.,   0., 100.,   0.,   0.,   0.,\n",
       "         0.,   0.,   0.,   0.,   0.,   0.,   0.,   0.,   0., 100.,   0.,\n",
       "         0., 100.,   0.,   0.,   0., 100.,   0.,   0.,   0.,   0.,   0.,\n",
       "         0.,   0.,   0.,   0., 100.,   0.,   0.,   0.,   0.,   0.,   0.,\n",
       "         0.,   0.,   0.,   0.,   0., 100.,   0.,   0.,   0.,   0., 100.,\n",
       "         0.,   0.,   0., 100., 100.,   0.,   0.,   0.,   0., 100.,   0.,\n",
       "         0.,   0.,   0.,   0.,   0.,   0.,   0.,   0.,   0.,   0.,   0.,\n",
       "         0.,   0.,   0.,   0.,   0.,   0.,   0.,   0.,   0.,   0.,   0.,\n",
       "         0.,   0., 100.,   0.,   0.,   0.,   0.,   0.,   0.,   0.,   0.,\n",
       "         0.,   0.,   0.,   0.,   0.,   0.,   0.,   0., 100.,   0.,   0.,\n",
       "         0.,   0., 100.,   0.,   0.,   0.,   0.,   0., 100.,   0.,   0.,\n",
       "         0.,   0.,   0.,   0.,   0.,   0.,   0.,   0.,   0.,   0.,   0.,\n",
       "         0.,   0.,   0.,   0.,   0.,   0.,   0.,   0.,   0.,   0.,   0.,\n",
       "         0.,   0.,   0.,   0.,   0.,   0.,   0.,   0.,   0.,   0.,   0.,\n",
       "         0.,   0.,   0.,   0.,   0., 100., 100.,   0.,   0., 100.])"
      ]
     },
     "execution_count": 113,
     "metadata": {},
     "output_type": "execute_result"
    }
   ],
   "source": [
    "res"
   ]
  },
  {
   "cell_type": "code",
   "execution_count": 114,
   "metadata": {},
   "outputs": [],
   "source": [
    "submission1 = pd.DataFrame({\n",
    "    'index': test_df.index,\n",
    "    'pred': test_df.pred_y,\n",
    "    'opt_pred': res.x\n",
    "})"
   ]
  },
  {
   "cell_type": "code",
   "execution_count": 115,
   "metadata": {},
   "outputs": [],
   "source": [
    "submission1.to_csv(\"Data/sub1.csv\", index = False)"
   ]
  },
  {
   "cell_type": "code",
   "execution_count": null,
   "metadata": {},
   "outputs": [],
   "source": []
  }
 ],
 "metadata": {
  "kernelspec": {
   "display_name": "Python 3",
   "language": "python",
   "name": "python3"
  },
  "language_info": {
   "codemirror_mode": {
    "name": "ipython",
    "version": 3
   },
   "file_extension": ".py",
   "mimetype": "text/x-python",
   "name": "python",
   "nbconvert_exporter": "python",
   "pygments_lexer": "ipython3",
   "version": "3.6.9"
  }
 },
 "nbformat": 4,
 "nbformat_minor": 4
}
